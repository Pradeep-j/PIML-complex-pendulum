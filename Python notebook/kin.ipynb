{
 "cells": [
  {
   "cell_type": "code",
   "execution_count": 5,
   "id": "6dbb7fb4",
   "metadata": {},
   "outputs": [],
   "source": [
    "import numpy as np\n",
    "import math as m\n",
    "np.set_printoptions(precision = 3, suppress = True)"
   ]
  },
  {
   "cell_type": "code",
   "execution_count": 42,
   "id": "5fa01020",
   "metadata": {},
   "outputs": [],
   "source": [
    "def dhTransform(dhTable): \n",
    "    \n",
    "    no_links = dhTable.shape[0]\n",
    "    listofTransforms = []\n",
    "    for i in range(no_links):\n",
    "        T = singleTransform(dhTable[i][0], dhTable[i][1], dhTable[i][2], dhTable[i][3])\n",
    "        listofTransforms.append(T)\n",
    "    return multipleTransform(listofTransforms)\n",
    "    \n",
    "def singleTransform(theta, d, alphaPrev, offsetPrev): \n",
    "    \n",
    "    T = np.array([[m.cos(theta), -m.sin(theta), 0, offsetPrev], \n",
    "                  [m.sin(theta)*m.cos(alphaPrev), m.cos(theta)*m.cos(alphaPrev), -m.sin(alphaPrev), -m.sin(alphaPrev)*d], \n",
    "                  [m.sin(theta)*m.sin(alphaPrev), m.cos(theta)*m.sin(alphaPrev), m.cos(alphaPrev), m.cos(alphaPrev)*d],\n",
    "                    [0, 0, 0, 1]])\n",
    "    \n",
    "    return T\n",
    "\n",
    "def multipleTransform(listofTransforms): \n",
    "    if len(listofTransforms)==1: \n",
    "        return listofTransforms[0]\n",
    "    else: \n",
    "        prevT = listofTransforms.pop(0)\n",
    "        return np.matmul(prevT, multipleTransform(listofTransforms))\n",
    "\n",
    "def vec2SO3(omega, theta): \n",
    "    \n",
    "    if np.linalg.norm(omega) > 1: \n",
    "        omega = omega/np.linalg.norm(omega)\n",
    "        \n",
    "    omegaSE3 = np.array([[0, -omega[0][2], omega[0][1]], [omega[0][2], 0, -omega[0][0]], [-omega[0][1], omega[0][0], 0]])\n",
    "    R = np.eye(3) + m.sin(theta)*omegaSE3 + (1-m.cos(theta))*np.matmul(omegaSE3, omegaSE3)\n",
    "    return R "
   ]
  },
  {
   "cell_type": "code",
   "execution_count": 9,
   "id": "f8743ef7",
   "metadata": {},
   "outputs": [],
   "source": [
    "theta = np.pi/3\n",
    "d = 0\n",
    "alphaPrev = 0\n",
    "offsetPrev = 1.0"
   ]
  },
  {
   "cell_type": "code",
   "execution_count": 32,
   "id": "d63f25c6",
   "metadata": {},
   "outputs": [],
   "source": [
    "k = singleTransform(np.pi/4, 0, 0, 1)\n",
    "h = singleTransform(np.pi/4, 0, 0, 0)"
   ]
  },
  {
   "cell_type": "code",
   "execution_count": 37,
   "id": "81d7e930",
   "metadata": {},
   "outputs": [
    {
     "data": {
      "text/plain": [
       "array([[ 0.707, -0.707,  0.   ,  1.   ],\n",
       "       [ 0.707,  0.707, -0.   , -0.   ],\n",
       "       [ 0.   ,  0.   ,  1.   ,  0.   ],\n",
       "       [ 0.   ,  0.   ,  0.   ,  1.   ]])"
      ]
     },
     "execution_count": 37,
     "metadata": {},
     "output_type": "execute_result"
    }
   ],
   "source": [
    "k"
   ]
  },
  {
   "cell_type": "code",
   "execution_count": 35,
   "id": "9b4861a8",
   "metadata": {},
   "outputs": [
    {
     "data": {
      "text/plain": [
       "array([[ 0.707, -0.707,  0.   ,  0.   ],\n",
       "       [ 0.707,  0.707, -0.   , -0.   ],\n",
       "       [ 0.   ,  0.   ,  1.   ,  0.   ],\n",
       "       [ 0.   ,  0.   ,  0.   ,  1.   ]])"
      ]
     },
     "execution_count": 35,
     "metadata": {},
     "output_type": "execute_result"
    }
   ],
   "source": [
    "h"
   ]
  },
  {
   "cell_type": "code",
   "execution_count": 41,
   "id": "80d5cece",
   "metadata": {},
   "outputs": [
    {
     "data": {
      "text/plain": [
       "array([[ 1.   ,  0.   ,  0.   ,  2.414],\n",
       "       [ 0.   ,  1.   ,  0.   , -0.   ],\n",
       "       [ 0.   ,  0.   ,  1.   ,  0.   ],\n",
       "       [ 0.   ,  0.   ,  0.   ,  1.   ]])"
      ]
     },
     "execution_count": 41,
     "metadata": {},
     "output_type": "execute_result"
    }
   ],
   "source": [
    "dhTable = np.array([[np.pi/4, 0, 0, 0], [-np.pi/4, 0, 0, 1], [-np.pi/4, 0, 0, 1], [np.pi/4, 0, 0, 1]])\n",
    "dhTransform(dhTable)"
   ]
  },
  {
   "cell_type": "code",
   "execution_count": 54,
   "id": "d04988f2",
   "metadata": {},
   "outputs": [
    {
     "data": {
      "text/plain": [
       "array([[0.   , 0.866, 0.5  ]])"
      ]
     },
     "execution_count": 54,
     "metadata": {},
     "output_type": "execute_result"
    }
   ],
   "source": [
    "omega = np.array([[0, 0.866, 0.5]])\n",
    "theta = np.pi/6\n",
    "omega"
   ]
  },
  {
   "cell_type": "code",
   "execution_count": 55,
   "id": "0f316621",
   "metadata": {},
   "outputs": [
    {
     "data": {
      "text/plain": [
       "array([[ 0.866, -0.25 ,  0.433],\n",
       "       [ 0.25 ,  0.967,  0.058],\n",
       "       [-0.433,  0.058,  0.9  ]])"
      ]
     },
     "execution_count": 55,
     "metadata": {},
     "output_type": "execute_result"
    }
   ],
   "source": [
    "R = vec2SO3(omega, theta)\n",
    "R"
   ]
  }
 ],
 "metadata": {
  "kernelspec": {
   "display_name": "Python 3 (ipykernel)",
   "language": "python",
   "name": "python3"
  },
  "language_info": {
   "codemirror_mode": {
    "name": "ipython",
    "version": 3
   },
   "file_extension": ".py",
   "mimetype": "text/x-python",
   "name": "python",
   "nbconvert_exporter": "python",
   "pygments_lexer": "ipython3",
   "version": "3.9.12"
  }
 },
 "nbformat": 4,
 "nbformat_minor": 5
}
